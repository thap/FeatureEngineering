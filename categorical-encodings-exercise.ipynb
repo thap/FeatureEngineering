{
 "cells": [
  {
   "cell_type": "code",
   "execution_count": 1,
   "metadata": {},
   "outputs": [
    {
     "name": "stderr",
     "output_type": "stream",
     "text": [
      "//anaconda3/lib/python3.7/site-packages/lightgbm/__init__.py:46: UserWarning: Starting from version 2.2.1, the library file in distribution wheels for macOS is built by the Apple Clang (Xcode_8.3.3) compiler.\n",
      "This means that in case of installing LightGBM from PyPI via the ``pip install lightgbm`` command, you don't need to install the gcc compiler anymore.\n",
      "Instead of that, you need to install the OpenMP library, which is required for running LightGBM on the system with the Apple Clang compiler.\n",
      "You can install the OpenMP library by the following command: ``brew install libomp``.\n",
      "  \"You can install the OpenMP library by the following command: ``brew install libomp``.\", UserWarning)\n"
     ]
    },
    {
     "data": {
      "text/plain": [
       "(       ip  app  device  os  channel          click_time attributed_time  \\\n",
       " 0   87540   12       1  13      497 2017-11-07 09:30:38             NaN   \n",
       " 1  105560   25       1  17      259 2017-11-07 13:40:27             NaN   \n",
       " 2  101424   12       1  19      212 2017-11-07 18:05:24             NaN   \n",
       " 3   94584   13       1  13      477 2017-11-07 04:58:08             NaN   \n",
       " 4   68413   12       1   1      178 2017-11-09 09:00:09             NaN   \n",
       " 5   93663    3       1  17      115 2017-11-09 01:22:13             NaN   \n",
       " 6   17059    1       1  17      135 2017-11-09 01:17:58             NaN   \n",
       " 7  121505    9       1  25      442 2017-11-07 10:01:53             NaN   \n",
       " 8  192967    2       2  22      364 2017-11-08 09:35:17             NaN   \n",
       " 9  143636    3       1  19      135 2017-11-08 12:35:26             NaN   \n",
       " \n",
       "    is_attributed  \n",
       " 0              0  \n",
       " 1              0  \n",
       " 2              0  \n",
       " 3              0  \n",
       " 4              0  \n",
       " 5              0  \n",
       " 6              0  \n",
       " 7              0  \n",
       " 8              0  \n",
       " 9              0  ,\n",
       "            ip  app  device  os  channel          click_time attributed_time  \\\n",
       " 99990   84388    9       1  22      107 2017-11-09 04:21:28             NaN   \n",
       " 99991   43374    1       1  18      134 2017-11-09 12:42:34             NaN   \n",
       " 99992  125061   12       1  13      328 2017-11-07 09:33:14             NaN   \n",
       " 99993  146258    3       1  13      280 2017-11-09 03:03:17             NaN   \n",
       " 99994  147153   13       1  13      477 2017-11-07 07:34:13             NaN   \n",
       " 99995  124883   11       1  19      122 2017-11-09 13:25:41             NaN   \n",
       " 99996   85150    9       1  13      244 2017-11-07 11:25:43             NaN   \n",
       " 99997   18839    3       1  13       19 2017-11-08 11:38:42             NaN   \n",
       " 99998  114276   15       1  12      245 2017-11-08 17:55:21             NaN   \n",
       " 99999  119349   14       1  15      401 2017-11-07 14:32:27             NaN   \n",
       " \n",
       "        is_attributed  \n",
       " 99990              0  \n",
       " 99991              0  \n",
       " 99992              0  \n",
       " 99993              0  \n",
       " 99994              0  \n",
       " 99995              0  \n",
       " 99996              0  \n",
       " 99997              0  \n",
       " 99998              0  \n",
       " 99999              0  ,\n",
       " (100000, 8))"
      ]
     },
     "execution_count": 1,
     "metadata": {},
     "output_type": "execute_result"
    }
   ],
   "source": [
    "import numpy as np\n",
    "import pandas as pd\n",
    "from sklearn import preprocessing, metrics\n",
    "import lightgbm as lgb\n",
    "\n",
    "clicks = pd.read_csv('talkingdata-adtracking-fraud-detection/train_sample.csv',\n",
    "                        parse_dates=['click_time'])\n",
    "clicks.head(10), clicks.tail(10), clicks.shape"
   ]
  },
  {
   "cell_type": "code",
   "execution_count": 2,
   "metadata": {},
   "outputs": [
    {
     "data": {
      "text/plain": [
       "(       ip  app  device  os  channel          click_time attributed_time  \\\n",
       " 0   87540   12       1  13      497 2017-11-07 09:30:38             NaN   \n",
       " 1  105560   25       1  17      259 2017-11-07 13:40:27             NaN   \n",
       " 2  101424   12       1  19      212 2017-11-07 18:05:24             NaN   \n",
       " 3   94584   13       1  13      477 2017-11-07 04:58:08             NaN   \n",
       " 4   68413   12       1   1      178 2017-11-09 09:00:09             NaN   \n",
       " 5   93663    3       1  17      115 2017-11-09 01:22:13             NaN   \n",
       " 6   17059    1       1  17      135 2017-11-09 01:17:58             NaN   \n",
       " 7  121505    9       1  25      442 2017-11-07 10:01:53             NaN   \n",
       " 8  192967    2       2  22      364 2017-11-08 09:35:17             NaN   \n",
       " 9  143636    3       1  19      135 2017-11-08 12:35:26             NaN   \n",
       " \n",
       "    is_attributed  day  hour  minute  second  \n",
       " 0              0    7     9      30      38  \n",
       " 1              0    7    13      40      27  \n",
       " 2              0    7    18       5      24  \n",
       " 3              0    7     4      58       8  \n",
       " 4              0    9     9       0       9  \n",
       " 5              0    9     1      22      13  \n",
       " 6              0    9     1      17      58  \n",
       " 7              0    7    10       1      53  \n",
       " 8              0    8     9      35      17  \n",
       " 9              0    8    12      35      26  ,\n",
       "            ip  app  device  os  channel          click_time attributed_time  \\\n",
       " 99990   84388    9       1  22      107 2017-11-09 04:21:28             NaN   \n",
       " 99991   43374    1       1  18      134 2017-11-09 12:42:34             NaN   \n",
       " 99992  125061   12       1  13      328 2017-11-07 09:33:14             NaN   \n",
       " 99993  146258    3       1  13      280 2017-11-09 03:03:17             NaN   \n",
       " 99994  147153   13       1  13      477 2017-11-07 07:34:13             NaN   \n",
       " 99995  124883   11       1  19      122 2017-11-09 13:25:41             NaN   \n",
       " 99996   85150    9       1  13      244 2017-11-07 11:25:43             NaN   \n",
       " 99997   18839    3       1  13       19 2017-11-08 11:38:42             NaN   \n",
       " 99998  114276   15       1  12      245 2017-11-08 17:55:21             NaN   \n",
       " 99999  119349   14       1  15      401 2017-11-07 14:32:27             NaN   \n",
       " \n",
       "        is_attributed  day  hour  minute  second  \n",
       " 99990              0    9     4      21      28  \n",
       " 99991              0    9    12      42      34  \n",
       " 99992              0    7     9      33      14  \n",
       " 99993              0    9     3       3      17  \n",
       " 99994              0    7     7      34      13  \n",
       " 99995              0    9    13      25      41  \n",
       " 99996              0    7    11      25      43  \n",
       " 99997              0    8    11      38      42  \n",
       " 99998              0    8    17      55      21  \n",
       " 99999              0    7    14      32      27  ,\n",
       " (100000, 12))"
      ]
     },
     "execution_count": 2,
     "metadata": {},
     "output_type": "execute_result"
    }
   ],
   "source": [
    "click_times = clicks['click_time']\n",
    "clicks['day'] = click_times.dt.day.astype('uint8')\n",
    "clicks['hour'] = click_times.dt.hour.astype('uint8')\n",
    "clicks['minute'] = click_times.dt.minute.astype('uint8')\n",
    "clicks['second'] = click_times.dt.second.astype('uint8')\n",
    "clicks.head(10), clicks.tail(10), clicks.shape"
   ]
  },
  {
   "cell_type": "code",
   "execution_count": 3,
   "metadata": {},
   "outputs": [],
   "source": [
    "def get_data_splits(dataframe, valid_fraction=0.1):\n",
    "    dataframe = dataframe.sort_values('click_time')\n",
    "    valid_rows = int(len(dataframe) * valid_fraction)\n",
    "    \n",
    "    train = dataframe[:-2 * valid_rows]\n",
    "    valid = dataframe[-2 * valid_rows:-valid_rows]\n",
    "    test = dataframe[-valid_rows:]\n",
    "    \n",
    "    return train, valid, test"
   ]
  },
  {
   "cell_type": "code",
   "execution_count": 14,
   "metadata": {},
   "outputs": [],
   "source": [
    "def train_model(train, valid, test=None, feature_cols=None):\n",
    "    if feature_cols is None:\n",
    "        feature_cols = train.columns.drop(['click_time', 'attributed_time', 'is_attributed'])\n",
    "    dtrain = lgb.Dataset(train[feature_cols], label=train['is_attributed'])\n",
    "    dvalid = lgb.Dataset(valid[feature_cols], label=valid['is_attributed'])\n",
    "    \n",
    "    param = {'num_leaves': 64, 'objective': 'binary', \n",
    "             'metric': 'auc', 'seed': 7}\n",
    "    num_round = 1000\n",
    "    print(\"Training model!\")\n",
    "    bst = lgb.train(param, dtrain, num_round, valid_sets=[dvalid], \n",
    "                    early_stopping_rounds=20, verbose_eval=False)\n",
    "    \n",
    "    train_pred = bst.predict(train[feature_cols])\n",
    "    train_score = metrics.roc_auc_score(train['is_attributed'], train_pred)\n",
    "    print(f\"Train AUC score: {train_score}\")\n",
    "    \n",
    "    valid_pred = bst.predict(valid[feature_cols])\n",
    "    valid_score = metrics.roc_auc_score(valid['is_attributed'], valid_pred)\n",
    "    print(f\"Validation AUC score: {valid_score}\")\n",
    "    \n",
    "    if test is not None: \n",
    "        test_pred = bst.predict(test[feature_cols])\n",
    "        test_score = metrics.roc_auc_score(test['is_attributed'], test_pred)\n",
    "        print(f\"Test AUC score: {test_score}\")\n",
    "        return bst, valid_score, test_score\n",
    "    else:\n",
    "        return bst, valid_score"
   ]
  },
  {
   "cell_type": "code",
   "execution_count": 15,
   "metadata": {},
   "outputs": [
    {
     "name": "stdout",
     "output_type": "stream",
     "text": [
      "Baseline model\n",
      "Training model!\n",
      "Train AUC score: 0.9640588589040066\n",
      "Validation AUC score: 0.9324771929824561\n",
      "Test AUC score: 0.85750250501002\n"
     ]
    },
    {
     "data": {
      "text/plain": [
       "(<lightgbm.basic.Booster at 0x1a1ee968d0>,\n",
       " 0.9324771929824561,\n",
       " 0.85750250501002)"
      ]
     },
     "execution_count": 15,
     "metadata": {},
     "output_type": "execute_result"
    }
   ],
   "source": [
    "print('Baseline model')\n",
    "train, valid, test = get_data_splits(clicks)\n",
    "train_model(train, valid, test)"
   ]
  },
  {
   "cell_type": "code",
   "execution_count": 16,
   "metadata": {},
   "outputs": [
    {
     "name": "stdout",
     "output_type": "stream",
     "text": [
      "Training model!\n",
      "Train AUC score: 0.9736499093129177\n",
      "Validation AUC score: 0.848635588972431\n",
      "Test AUC score: 0.7454709418837675\n"
     ]
    },
    {
     "data": {
      "text/plain": [
       "(<lightgbm.basic.Booster at 0x1a1ce2f710>,\n",
       " 0.848635588972431,\n",
       " 0.7454709418837675)"
      ]
     },
     "execution_count": 16,
     "metadata": {},
     "output_type": "execute_result"
    }
   ],
   "source": [
    "import category_encoders as ce\n",
    "\n",
    "cat_features = ['ip', 'app', 'device', 'os', 'channel']\n",
    "train, valid, test = get_data_splits(clicks)\n",
    "\n",
    "count_encoder = ce.CountEncoder(cols=cat_features)\n",
    "count_encoder.fit(train[cat_features])\n",
    "\n",
    "train_encoded = train.join(count_encoder.transform(train[cat_features]).add_suffix('_count'))\n",
    "valid_encoded = valid.join(count_encoder.transform(valid[cat_features]).add_suffix('_count'))\n",
    "test_encoded = test.join(count_encoder.transform(test[cat_features]).add_suffix('_count'))\n",
    "\n",
    "train_model(train_encoded, valid_encoded, test_encoded)"
   ]
  },
  {
   "cell_type": "code",
   "execution_count": 19,
   "metadata": {},
   "outputs": [
    {
     "name": "stdout",
     "output_type": "stream",
     "text": [
      "Training model!\n",
      "Train AUC score: 0.9990704470802945\n",
      "Validation AUC score: 0.8783538847117796\n",
      "Test AUC score: 0.9599799599198396\n"
     ]
    },
    {
     "data": {
      "text/plain": [
       "(<lightgbm.basic.Booster at 0x1a1ee96358>,\n",
       " 0.8783538847117796,\n",
       " 0.9599799599198396)"
      ]
     },
     "execution_count": 19,
     "metadata": {},
     "output_type": "execute_result"
    }
   ],
   "source": [
    "cat_features = ['ip', 'app', 'device', 'os', 'channel']\n",
    "train, valid, test = get_data_splits(clicks)\n",
    "\n",
    "target_enc = ce.TargetEncoder(cols=cat_features)\n",
    "target_enc.fit(train[cat_features], train['is_attributed'])\n",
    "\n",
    "train_encoded = train.join(target_enc.transform(train[cat_features]).add_suffix('_target'))\n",
    "valid_encoded = valid.join(target_enc.transform(valid[cat_features]).add_suffix('_target'))\n",
    "test_encoded = test.join(target_enc.transform(test[cat_features]).add_suffix('_target'))\n",
    "\n",
    "train_model(train_encoded, valid_encoded, test_encoded)"
   ]
  },
  {
   "cell_type": "code",
   "execution_count": 20,
   "metadata": {},
   "outputs": [
    {
     "name": "stdout",
     "output_type": "stream",
     "text": [
      "Training model!\n",
      "Train AUC score: 0.9990704470802945\n",
      "Validation AUC score: 0.8773754385964911\n",
      "Test AUC score: 0.9592785571142284\n"
     ]
    },
    {
     "data": {
      "text/plain": [
       "(<lightgbm.basic.Booster at 0x1a218a4cf8>,\n",
       " 0.8773754385964911,\n",
       " 0.9592785571142284)"
      ]
     },
     "execution_count": 20,
     "metadata": {},
     "output_type": "execute_result"
    }
   ],
   "source": [
    "cat_features = ['ip', 'app', 'device', 'os', 'channel']\n",
    "train, valid, test = get_data_splits(clicks)\n",
    "\n",
    "cb_enc = ce.CatBoostEncoder(cols=cat_features, random_state=7)\n",
    "cb_enc.fit(train[cat_features], train['is_attributed'])\n",
    "\n",
    "train_encoded = train.join(cb_enc.transform(train[cat_features]).add_suffix('_cb'))\n",
    "valid_encoded = valid.join(cb_enc.transform(valid[cat_features]).add_suffix('_cb'))\n",
    "test_encoded = test.join(cb_enc.transform(test[cat_features]).add_suffix('_cb'))\n",
    "\n",
    "train_model(train_encoded, valid_encoded, test_encoded)"
   ]
  },
  {
   "cell_type": "code",
   "execution_count": 21,
   "metadata": {},
   "outputs": [
    {
     "name": "stdout",
     "output_type": "stream",
     "text": [
      "Training model!\n",
      "Train AUC score: 0.9960245409956002\n",
      "Validation AUC score: 0.8980190476190476\n",
      "Test AUC score: 0.8995090180360721\n"
     ]
    },
    {
     "data": {
      "text/plain": [
       "(<lightgbm.basic.Booster at 0x1a1f34b710>,\n",
       " 0.8980190476190476,\n",
       " 0.8995090180360721)"
      ]
     },
     "execution_count": 21,
     "metadata": {},
     "output_type": "execute_result"
    }
   ],
   "source": [
    "cat_features = ['app', 'device', 'os', 'channel']\n",
    "train, valid, test = get_data_splits(clicks)\n",
    "\n",
    "cb_enc = ce.CatBoostEncoder(cols=cat_features, random_state=7)\n",
    "cb_enc.fit(train[cat_features], train['is_attributed'])\n",
    "\n",
    "train_encoded = train.join(cb_enc.transform(train[cat_features]).add_suffix('_cb'))\n",
    "valid_encoded = valid.join(cb_enc.transform(valid[cat_features]).add_suffix('_cb'))\n",
    "test_encoded = test.join(cb_enc.transform(test[cat_features]).add_suffix('_cb'))\n",
    "\n",
    "train_model(train_encoded, valid_encoded, test_encoded)"
   ]
  },
  {
   "cell_type": "code",
   "execution_count": 22,
   "metadata": {},
   "outputs": [
    {
     "data": {
      "text/plain": [
       "Index(['ip', 'app', 'device', 'os', 'channel', 'click_time', 'attributed_time',\n",
       "       'is_attributed', 'day', 'hour', 'minute', 'second'],\n",
       "      dtype='object')"
      ]
     },
     "execution_count": 22,
     "metadata": {},
     "output_type": "execute_result"
    }
   ],
   "source": [
    "clicks.columns"
   ]
  },
  {
   "cell_type": "code",
   "execution_count": null,
   "metadata": {},
   "outputs": [],
   "source": []
  }
 ],
 "metadata": {
  "kernelspec": {
   "display_name": "Python 3",
   "language": "python",
   "name": "python3"
  },
  "language_info": {
   "codemirror_mode": {
    "name": "ipython",
    "version": 3
   },
   "file_extension": ".py",
   "mimetype": "text/x-python",
   "name": "python",
   "nbconvert_exporter": "python",
   "pygments_lexer": "ipython3",
   "version": "3.7.3"
  }
 },
 "nbformat": 4,
 "nbformat_minor": 4
}
