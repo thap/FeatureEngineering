{
 "cells": [
  {
   "cell_type": "code",
   "execution_count": 18,
   "metadata": {},
   "outputs": [
    {
     "data": {
      "text/plain": [
       "(       ip  app  device  os  channel          click_time attributed_time  \\\n",
       " 0   87540   12       1  13      497 2017-11-07 09:30:38             NaN   \n",
       " 1  105560   25       1  17      259 2017-11-07 13:40:27             NaN   \n",
       " 2  101424   12       1  19      212 2017-11-07 18:05:24             NaN   \n",
       " 3   94584   13       1  13      477 2017-11-07 04:58:08             NaN   \n",
       " 4   68413   12       1   1      178 2017-11-09 09:00:09             NaN   \n",
       " 5   93663    3       1  17      115 2017-11-09 01:22:13             NaN   \n",
       " 6   17059    1       1  17      135 2017-11-09 01:17:58             NaN   \n",
       " 7  121505    9       1  25      442 2017-11-07 10:01:53             NaN   \n",
       " 8  192967    2       2  22      364 2017-11-08 09:35:17             NaN   \n",
       " 9  143636    3       1  19      135 2017-11-08 12:35:26             NaN   \n",
       " \n",
       "    is_attributed  \n",
       " 0              0  \n",
       " 1              0  \n",
       " 2              0  \n",
       " 3              0  \n",
       " 4              0  \n",
       " 5              0  \n",
       " 6              0  \n",
       " 7              0  \n",
       " 8              0  \n",
       " 9              0  ,\n",
       "            ip  app  device  os  channel          click_time attributed_time  \\\n",
       " 99990   84388    9       1  22      107 2017-11-09 04:21:28             NaN   \n",
       " 99991   43374    1       1  18      134 2017-11-09 12:42:34             NaN   \n",
       " 99992  125061   12       1  13      328 2017-11-07 09:33:14             NaN   \n",
       " 99993  146258    3       1  13      280 2017-11-09 03:03:17             NaN   \n",
       " 99994  147153   13       1  13      477 2017-11-07 07:34:13             NaN   \n",
       " 99995  124883   11       1  19      122 2017-11-09 13:25:41             NaN   \n",
       " 99996   85150    9       1  13      244 2017-11-07 11:25:43             NaN   \n",
       " 99997   18839    3       1  13       19 2017-11-08 11:38:42             NaN   \n",
       " 99998  114276   15       1  12      245 2017-11-08 17:55:21             NaN   \n",
       " 99999  119349   14       1  15      401 2017-11-07 14:32:27             NaN   \n",
       " \n",
       "        is_attributed  \n",
       " 99990              0  \n",
       " 99991              0  \n",
       " 99992              0  \n",
       " 99993              0  \n",
       " 99994              0  \n",
       " 99995              0  \n",
       " 99996              0  \n",
       " 99997              0  \n",
       " 99998              0  \n",
       " 99999              0  ,\n",
       " (100000, 8))"
      ]
     },
     "execution_count": 18,
     "metadata": {},
     "output_type": "execute_result"
    }
   ],
   "source": [
    "import pandas as pd\n",
    "\n",
    "clicks = pd.read_csv('talkingdata-adtracking-fraud-detection/train_sample.csv',\n",
    "                        parse_dates=['click_time'])\n",
    "clicks.head(10), clicks.tail(10), clicks.shape"
   ]
  },
  {
   "cell_type": "code",
   "execution_count": 19,
   "metadata": {},
   "outputs": [
    {
     "data": {
      "text/plain": [
       "(       ip  app  device  os  channel          click_time attributed_time  \\\n",
       " 0   87540   12       1  13      497 2017-11-07 09:30:38             NaN   \n",
       " 1  105560   25       1  17      259 2017-11-07 13:40:27             NaN   \n",
       " 2  101424   12       1  19      212 2017-11-07 18:05:24             NaN   \n",
       " 3   94584   13       1  13      477 2017-11-07 04:58:08             NaN   \n",
       " 4   68413   12       1   1      178 2017-11-09 09:00:09             NaN   \n",
       " 5   93663    3       1  17      115 2017-11-09 01:22:13             NaN   \n",
       " 6   17059    1       1  17      135 2017-11-09 01:17:58             NaN   \n",
       " 7  121505    9       1  25      442 2017-11-07 10:01:53             NaN   \n",
       " 8  192967    2       2  22      364 2017-11-08 09:35:17             NaN   \n",
       " 9  143636    3       1  19      135 2017-11-08 12:35:26             NaN   \n",
       " \n",
       "    is_attributed  day  hour  minute  second  \n",
       " 0              0    7     9      30      38  \n",
       " 1              0    7    13      40      27  \n",
       " 2              0    7    18       5      24  \n",
       " 3              0    7     4      58       8  \n",
       " 4              0    9     9       0       9  \n",
       " 5              0    9     1      22      13  \n",
       " 6              0    9     1      17      58  \n",
       " 7              0    7    10       1      53  \n",
       " 8              0    8     9      35      17  \n",
       " 9              0    8    12      35      26  ,\n",
       "            ip  app  device  os  channel          click_time attributed_time  \\\n",
       " 99990   84388    9       1  22      107 2017-11-09 04:21:28             NaN   \n",
       " 99991   43374    1       1  18      134 2017-11-09 12:42:34             NaN   \n",
       " 99992  125061   12       1  13      328 2017-11-07 09:33:14             NaN   \n",
       " 99993  146258    3       1  13      280 2017-11-09 03:03:17             NaN   \n",
       " 99994  147153   13       1  13      477 2017-11-07 07:34:13             NaN   \n",
       " 99995  124883   11       1  19      122 2017-11-09 13:25:41             NaN   \n",
       " 99996   85150    9       1  13      244 2017-11-07 11:25:43             NaN   \n",
       " 99997   18839    3       1  13       19 2017-11-08 11:38:42             NaN   \n",
       " 99998  114276   15       1  12      245 2017-11-08 17:55:21             NaN   \n",
       " 99999  119349   14       1  15      401 2017-11-07 14:32:27             NaN   \n",
       " \n",
       "        is_attributed  day  hour  minute  second  \n",
       " 99990              0    9     4      21      28  \n",
       " 99991              0    9    12      42      34  \n",
       " 99992              0    7     9      33      14  \n",
       " 99993              0    9     3       3      17  \n",
       " 99994              0    7     7      34      13  \n",
       " 99995              0    9    13      25      41  \n",
       " 99996              0    7    11      25      43  \n",
       " 99997              0    8    11      38      42  \n",
       " 99998              0    8    17      55      21  \n",
       " 99999              0    7    14      32      27  ,\n",
       " (100000, 12))"
      ]
     },
     "execution_count": 19,
     "metadata": {},
     "output_type": "execute_result"
    }
   ],
   "source": [
    "click_times = clicks['click_time']\n",
    "clicks['day'] = click_times.dt.day.astype('uint8')\n",
    "clicks['hour'] = click_times.dt.hour.astype('uint8')\n",
    "clicks['minute'] = click_times.dt.minute.astype('uint8')\n",
    "clicks['second'] = click_times.dt.second.astype('uint8')\n",
    "clicks.head(10), clicks.tail(10), clicks.shape"
   ]
  },
  {
   "cell_type": "code",
   "execution_count": 20,
   "metadata": {},
   "outputs": [
    {
     "data": {
      "text/plain": [
       "(       ip  app  device  os  channel          click_time attributed_time  \\\n",
       " 0   87540   12       1  13      497 2017-11-07 09:30:38             NaN   \n",
       " 1  105560   25       1  17      259 2017-11-07 13:40:27             NaN   \n",
       " 2  101424   12       1  19      212 2017-11-07 18:05:24             NaN   \n",
       " 3   94584   13       1  13      477 2017-11-07 04:58:08             NaN   \n",
       " 4   68413   12       1   1      178 2017-11-09 09:00:09             NaN   \n",
       " 5   93663    3       1  17      115 2017-11-09 01:22:13             NaN   \n",
       " 6   17059    1       1  17      135 2017-11-09 01:17:58             NaN   \n",
       " 7  121505    9       1  25      442 2017-11-07 10:01:53             NaN   \n",
       " 8  192967    2       2  22      364 2017-11-08 09:35:17             NaN   \n",
       " 9  143636    3       1  19      135 2017-11-08 12:35:26             NaN   \n",
       " \n",
       "    is_attributed  day  hour  minute  second  ip_labels  app_labels  \\\n",
       " 0              0    7     9      30      38      15220          11   \n",
       " 1              0    7    13      40      27      18448          24   \n",
       " 2              0    7    18       5      24      17663          11   \n",
       " 3              0    7     4      58       8      16496          12   \n",
       " 4              0    9     9       0       9      11852          11   \n",
       " 5              0    9     1      22      13      16300           2   \n",
       " 6              0    9     1      17      58       2973           0   \n",
       " 7              0    7    10       1      53      21303           8   \n",
       " 8              0    8     9      35      17      28059           1   \n",
       " 9              0    8    12      35      26      23644           2   \n",
       " \n",
       "    device_labels  os_labels  channel_labels  \n",
       " 0              1         13             159  \n",
       " 1              1         17              67  \n",
       " 2              1         19              52  \n",
       " 3              1         13             146  \n",
       " 4              1          1              45  \n",
       " 5              1         17              20  \n",
       " 6              1         17              34  \n",
       " 7              1         25             126  \n",
       " 8              2         22             100  \n",
       " 9              1         19              34  ,\n",
       "            ip  app  device  os  channel          click_time attributed_time  \\\n",
       " 99990   84388    9       1  22      107 2017-11-09 04:21:28             NaN   \n",
       " 99991   43374    1       1  18      134 2017-11-09 12:42:34             NaN   \n",
       " 99992  125061   12       1  13      328 2017-11-07 09:33:14             NaN   \n",
       " 99993  146258    3       1  13      280 2017-11-09 03:03:17             NaN   \n",
       " 99994  147153   13       1  13      477 2017-11-07 07:34:13             NaN   \n",
       " 99995  124883   11       1  19      122 2017-11-09 13:25:41             NaN   \n",
       " 99996   85150    9       1  13      244 2017-11-07 11:25:43             NaN   \n",
       " 99997   18839    3       1  13       19 2017-11-08 11:38:42             NaN   \n",
       " 99998  114276   15       1  12      245 2017-11-08 17:55:21             NaN   \n",
       " 99999  119349   14       1  15      401 2017-11-07 14:32:27             NaN   \n",
       " \n",
       "        is_attributed  day  hour  minute  second  ip_labels  app_labels  \\\n",
       " 99990              0    9     4      21      28      14715           8   \n",
       " 99991              0    9    12      42      34       7532           0   \n",
       " 99992              0    7     9      33      14      21873          11   \n",
       " 99993              0    9     3       3      17      23891           2   \n",
       " 99994              0    7     7      34      13      23969          12   \n",
       " 99995              0    9    13      25      41      21848          10   \n",
       " 99996              0    7    11      25      43      14877           8   \n",
       " 99997              0    8    11      38      42       3324           2   \n",
       " 99998              0    8    17      55      21      20021          14   \n",
       " 99999              0    7    14      32      27      20903          13   \n",
       " \n",
       "        device_labels  os_labels  channel_labels  \n",
       " 99990              1         22              14  \n",
       " 99991              1         18              33  \n",
       " 99992              1         13              86  \n",
       " 99993              1         13              77  \n",
       " 99994              1         13             146  \n",
       " 99995              1         19              25  \n",
       " 99996              1         13              63  \n",
       " 99997              1         13               7  \n",
       " 99998              1         12              64  \n",
       " 99999              1         15             109  ,\n",
       " (100000, 17))"
      ]
     },
     "execution_count": 20,
     "metadata": {},
     "output_type": "execute_result"
    }
   ],
   "source": [
    "from sklearn import preprocessing\n",
    "\n",
    "cat_features = ['ip', 'app', 'device', 'os', 'channel']\n",
    "\n",
    "for feature in cat_features:\n",
    "    clicks[feature+'_labels'] = preprocessing.LabelEncoder().fit_transform(clicks[feature])\n",
    "    \n",
    "clicks.head(10), clicks.tail(10), clicks.shape"
   ]
  },
  {
   "cell_type": "code",
   "execution_count": 21,
   "metadata": {},
   "outputs": [],
   "source": [
    "feature_cols = ['day', 'hour', 'minute', 'second', \n",
    "                'ip_labels', 'app_labels', 'device_labels',\n",
    "                'os_labels', 'channel_labels']\n",
    "\n",
    "valid_fraction = 0.1\n",
    "clicks_srt = clicks.sort_values('click_time')\n",
    "valid_rows = int(len(clicks_srt) * valid_fraction)\n",
    "train = clicks_srt[:-2 * valid_rows]\n",
    "valid = clicks_srt[-2 * valid_rows:-valid_rows]\n",
    "test = clicks_srt[-valid_rows:]"
   ]
  },
  {
   "cell_type": "code",
   "execution_count": 22,
   "metadata": {},
   "outputs": [
    {
     "name": "stdout",
     "output_type": "stream",
     "text": [
      "[1]\ttraining's auc: 0.964059\tvalid_1's auc: 0.932413\tvalid_2's auc: 0.78119\n",
      "Training until validation scores don't improve for 10 rounds.\n",
      "[2]\ttraining's auc: 0.769949\tvalid_1's auc: 0.530091\tvalid_2's auc: 0.683875\n",
      "[3]\ttraining's auc: 0.76744\tvalid_1's auc: 0.446663\tvalid_2's auc: 0.725859\n",
      "[4]\ttraining's auc: 0.855111\tvalid_1's auc: 0.608956\tvalid_2's auc: 0.776926\n",
      "[5]\ttraining's auc: 0.857454\tvalid_1's auc: 0.608624\tvalid_2's auc: 0.725837\n",
      "[6]\ttraining's auc: 0.906923\tvalid_1's auc: 0.809223\tvalid_2's auc: 0.776385\n",
      "[7]\ttraining's auc: 0.882895\tvalid_1's auc: 0.810089\tvalid_2's auc: 0.774101\n",
      "[8]\ttraining's auc: 0.883502\tvalid_1's auc: 0.810314\tvalid_2's auc: 0.776075\n",
      "[9]\ttraining's auc: 0.926062\tvalid_1's auc: 0.80959\tvalid_2's auc: 0.777204\n",
      "[10]\ttraining's auc: 0.916218\tvalid_1's auc: 0.809999\tvalid_2's auc: 0.778026\n",
      "[11]\ttraining's auc: 0.911424\tvalid_1's auc: 0.809321\tvalid_2's auc: 0.775982\n",
      "Early stopping, best iteration is:\n",
      "[1]\ttraining's auc: 0.964059\tvalid_1's auc: 0.932413\tvalid_2's auc: 0.78119\n"
     ]
    }
   ],
   "source": [
    "import lightgbm as lgb\n",
    "\n",
    "dtrain = lgb.Dataset(train[feature_cols], label=train['is_attributed'])\n",
    "dvalid = lgb.Dataset(valid[feature_cols], label=valid['is_attributed'])\n",
    "dtest = lgb.Dataset(test[feature_cols], label=test['is_attributed'])\n",
    "\n",
    "param = {'num_leaves': 64, 'objective': 'binary', 'metric': 'auc'}\n",
    "num_round = 1000\n",
    "bst = lgb.train(param, dtrain, num_round, valid_sets=[dtrain, dvalid, dtest], early_stopping_rounds=10)"
   ]
  },
  {
   "cell_type": "code",
   "execution_count": 23,
   "metadata": {},
   "outputs": [
    {
     "name": "stdout",
     "output_type": "stream",
     "text": [
      "Test score: 0.7811898797595189\n"
     ]
    }
   ],
   "source": [
    "from sklearn import metrics\n",
    "\n",
    "ypred = bst.predict(test[feature_cols])\n",
    "score = metrics.roc_auc_score(test['is_attributed'], ypred)\n",
    "print(f'Test score: {score}')"
   ]
  },
  {
   "cell_type": "code",
   "execution_count": 24,
   "metadata": {},
   "outputs": [
    {
     "data": {
      "text/plain": [
       "Index(['ip', 'app', 'device', 'os', 'channel', 'click_time', 'attributed_time',\n",
       "       'is_attributed', 'day', 'hour', 'minute', 'second', 'ip_labels',\n",
       "       'app_labels', 'device_labels', 'os_labels', 'channel_labels'],\n",
       "      dtype='object')"
      ]
     },
     "execution_count": 24,
     "metadata": {},
     "output_type": "execute_result"
    }
   ],
   "source": [
    "clicks.columns"
   ]
  },
  {
   "cell_type": "code",
   "execution_count": null,
   "metadata": {},
   "outputs": [],
   "source": []
  }
 ],
 "metadata": {
  "kernelspec": {
   "display_name": "Python 3",
   "language": "python",
   "name": "python3"
  },
  "language_info": {
   "codemirror_mode": {
    "name": "ipython",
    "version": 3
   },
   "file_extension": ".py",
   "mimetype": "text/x-python",
   "name": "python",
   "nbconvert_exporter": "python",
   "pygments_lexer": "ipython3",
   "version": "3.7.3"
  }
 },
 "nbformat": 4,
 "nbformat_minor": 4
}
